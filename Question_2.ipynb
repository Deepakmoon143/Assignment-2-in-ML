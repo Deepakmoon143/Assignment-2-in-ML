{
 "cells": [
  {
   "cell_type": "code",
   "execution_count": 1,
   "metadata": {},
   "outputs": [
    {
     "name": "stdout",
     "output_type": "stream",
     "text": [
      "Mean Absolute Error: 3598.531649243634\n",
      "      Total_Compensation  Predicted_Total_Compensation\n",
      "0                  16158                  18260.569340\n",
      "1                 115784                 121534.253344\n",
      "2                 144708                 145537.468040\n",
      "3                 242323                 258489.805598\n",
      "4                  82106                  86746.295606\n",
      "...                  ...                           ...\n",
      "9995               26757                  26376.129763\n",
      "9996               80707                  78647.101275\n",
      "9997               18752                  20821.701403\n",
      "9998               24411                  27363.038622\n",
      "9999              104917                 103915.557582\n",
      "\n",
      "[10000 rows x 2 columns]\n"
     ]
    }
   ],
   "source": [
    "import pandas as pd\n",
    "from sklearn.model_selection import train_test_split\n",
    "from sklearn.linear_model import LinearRegression\n",
    "from sklearn.metrics import mean_absolute_error\n",
    "\n",
    "subset_size = 10000\n",
    "url = \"https://drive.google.com/uc?id=1mSkKEe0SUJ7AZHiubxKSke7HWf75JA_Z\"\n",
    "df = pd.read_csv(url, nrows=subset_size)\n",
    "\n",
    "df = df.drop(columns=['EI', 'YT'])\n",
    "\n",
    "df = pd.get_dummies(df)\n",
    "\n",
    "X = df.drop(columns=['Total_Compensation'])\n",
    "y = df['Total_Compensation']\n",
    "\n",
    "X_train, X_test, y_train, y_test = train_test_split(X, y, test_size=0.2, random_state=42)\n",
    "\n",
    "model = LinearRegression()\n",
    "\n",
    "model.fit(X_train, y_train)\n",
    "\n",
    "predictions = model.predict(X_test)\n",
    "\n",
    "mae = mean_absolute_error(y_test, predictions)\n",
    "print(f'Mean Absolute Error: {mae}')\n",
    "\n",
    "predictions_all = model.predict(X)\n",
    "\n",
    "df['Predicted_Total_Compensation'] = predictions_all\n",
    "\n",
    "print(df[['Total_Compensation', 'Predicted_Total_Compensation']])\n"
   ]
  }
 ],
 "metadata": {
  "kernelspec": {
   "display_name": "Python 3",
   "language": "python",
   "name": "python3"
  },
  "language_info": {
   "codemirror_mode": {
    "name": "ipython",
    "version": 3
   },
   "file_extension": ".py",
   "mimetype": "text/x-python",
   "name": "python",
   "nbconvert_exporter": "python",
   "pygments_lexer": "ipython3",
   "version": "3.11.5"
  }
 },
 "nbformat": 4,
 "nbformat_minor": 2
}
